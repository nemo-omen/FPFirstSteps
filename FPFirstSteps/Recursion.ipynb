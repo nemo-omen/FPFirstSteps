{
 "metadata": {
  "language_info": {
   "codemirror_mode": {
    "name": "ipython",
    "version": 3
   },
   "file_extension": ".py",
   "mimetype": "text/x-python",
   "name": "python",
   "nbconvert_exporter": "python",
   "pygments_lexer": "ipython3",
   "version": 3
  },
  "orig_nbformat": 2,
  "kernelspec": {
   "name": "jslab",
   "display_name": "JavaScript",
   "language": "javascript"
  }
 },
 "nbformat": 4,
 "nbformat_minor": 2,
 "cells": [
  {
   "source": [
    "Okay, let's see what this looks like after I push it to GitHub"
   ],
   "cell_type": "markdown",
   "metadata": {}
  },
  {
   "cell_type": "code",
   "execution_count": 6,
   "metadata": {},
   "outputs": [],
   "source": [
    "const suits = [\"Spades\", \"Diamonds\", \"Hearts\", \"Clubs\"];"
   ]
  },
  {
   "cell_type": "code",
   "execution_count": 2,
   "metadata": {},
   "outputs": [],
   "source": [
    "const ranks = [\"Ace\", \"2\", \"3\", \"4\", \"5\", \"6\", \"7\", \"8\", \"9\", \"10\", \"Jack\", \"Queen\", \"King\"];"
   ]
  },
  {
   "cell_type": "code",
   "execution_count": 3,
   "metadata": {},
   "outputs": [],
   "source": [
    "const buildDeck = (suits, ranks) => suits.flatMap(suit => ranks.map(rank => {return {suit: suit, rank: rank}}));"
   ]
  },
  {
   "cell_type": "code",
   "execution_count": 4,
   "metadata": {},
   "outputs": [],
   "source": [
    "const shuffle = (deck) => deck.sort(() => 0.5 - Math.random());"
   ]
  },
  {
   "cell_type": "code",
   "execution_count": 7,
   "metadata": {},
   "outputs": [],
   "source": [
    "const deck = shuffle(buildDeck(suits, ranks));"
   ]
  },
  {
   "cell_type": "code",
   "execution_count": 10,
   "metadata": {},
   "outputs": [
    {
     "output_type": "stream",
     "name": "stdout",
     "text": [
      "[\n  { suit: 'Spades', rank: '3' },\n  { suit: 'Spades', rank: '7' },\n  { suit: 'Spades', rank: 'Ace' },\n  { suit: 'Hearts', rank: '9' },\n  { suit: 'Hearts', rank: '4' },\n  { suit: 'Clubs', rank: '6' },\n  { suit: 'Spades', rank: '8' },\n  { suit: 'Spades', rank: '9' },\n  { suit: 'Diamonds', rank: '6' },\n  { suit: 'Hearts', rank: 'Ace' },\n  { suit: 'Hearts', rank: '7' },\n  { suit: 'Diamonds', rank: 'Ace' },\n  { suit: 'Spades', rank: 'Jack' },\n  { suit: 'Diamonds', rank: '8' },\n  { suit: 'Hearts', rank: '8' },\n  { suit: 'Hearts', rank: '3' },\n  { suit: 'Spades', rank: '5' },\n  { suit: 'Hearts', rank: '5' },\n  { suit: 'Clubs', rank: 'Queen' },\n  { suit: 'Hearts', rank: '10' },\n  { suit: 'Hearts', rank: 'Queen' },\n  { suit: 'Diamonds', rank: '9' },\n  { suit: 'Clubs', rank: '10' },\n  { suit: 'Hearts', rank: '6' },\n  { suit: 'Spades', rank: '2' },\n  { suit: 'Hearts', rank: '2' },\n  { suit: 'Diamonds', rank: '10' },\n  { suit: 'Clubs', rank: '2' },\n  { suit: 'Hearts', rank: 'Jack' },\n  { suit: 'Diamonds', rank: '7' },\n  { suit: 'Diamonds', rank: '5' },\n  { suit: 'Spades', rank: '6' },\n  { suit: 'Diamonds', rank: 'King' },\n  { suit: 'Diamonds', rank: '4' },\n  { suit: 'Spades', rank: '10' },\n  { suit: 'Diamonds', rank: 'Queen' },\n  { suit: 'Clubs', rank: '9' },\n  { suit: 'Spades', rank: 'King' },\n  { suit: 'Hearts', rank: 'King' },\n  { suit: 'Clubs', rank: 'King' },\n  { suit: 'Clubs', rank: '4' },\n  { suit: 'Spades', rank: '4' },\n  { suit: 'Diamonds', rank: '2' },\n  { suit: 'Clubs', rank: '3' },\n  { suit: 'Spades', rank: 'Queen' },\n  { suit: 'Clubs', rank: '5' },\n  { suit: 'Clubs', rank: 'Ace' },\n  { suit: 'Clubs', rank: 'Jack' },\n  { suit: 'Diamonds', rank: '3' },\n  { suit: 'Clubs', rank: '7' },\n  { suit: 'Diamonds', rank: 'Jack' },\n  { suit: 'Clubs', rank: '8' }\n]\n"
     ]
    }
   ],
   "source": [
    "deck"
   ]
  },
  {
   "cell_type": "code",
   "execution_count": null,
   "metadata": {},
   "outputs": [],
   "source": []
  }
 ]
}